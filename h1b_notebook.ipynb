{
 "cells": [
  {
   "cell_type": "code",
   "execution_count": 75,
   "metadata": {},
   "outputs": [],
   "source": [
    "import csv\n",
    "import re\n",
    "from os import walk"
   ]
  },
  {
   "cell_type": "code",
   "execution_count": 76,
   "metadata": {},
   "outputs": [
    {
     "data": {
      "text/plain": [
       "['tst.csv']"
      ]
     },
     "execution_count": 76,
     "metadata": {},
     "output_type": "execute_result"
    }
   ],
   "source": [
    "files = []\n",
    "for (dirpath, dirnames, filenames) in walk('./input/'):\n",
    "    files.extend(filenames)\n",
    "files.remove('README.md')\n",
    "    \n",
    "with open('./input/' + files[0]) as f:\n",
    "    lines = list(csv.reader(f, delimiter=';'))\n",
    "files"
   ]
  },
  {
   "cell_type": "code",
   "execution_count": 77,
   "metadata": {
    "scrolled": true
   },
   "outputs": [
    {
     "data": {
      "text/plain": [
       "['',\n",
       " 'CASE_NUMBER',\n",
       " 'CASE_STATUS',\n",
       " 'CASE_SUBMITTED',\n",
       " 'DECISION_DATE',\n",
       " 'VISA_CLASS',\n",
       " 'EMPLOYMENT_START_DATE',\n",
       " 'EMPLOYMENT_END_DATE',\n",
       " 'EMPLOYER_NAME',\n",
       " 'EMPLOYER_BUSINESS_DBA',\n",
       " 'EMPLOYER_ADDRESS',\n",
       " 'EMPLOYER_CITY',\n",
       " 'EMPLOYER_STATE',\n",
       " 'EMPLOYER_POSTAL_CODE',\n",
       " 'EMPLOYER_COUNTRY',\n",
       " 'EMPLOYER_PROVINCE',\n",
       " 'EMPLOYER_PHONE',\n",
       " 'EMPLOYER_PHONE_EXT',\n",
       " 'AGENT_REPRESENTING_EMPLOYER',\n",
       " 'AGENT_ATTORNEY_NAME',\n",
       " 'AGENT_ATTORNEY_CITY',\n",
       " 'AGENT_ATTORNEY_STATE',\n",
       " 'JOB_TITLE',\n",
       " 'SOC_CODE',\n",
       " 'SOC_NAME',\n",
       " 'NAICS_CODE',\n",
       " 'TOTAL_WORKERS',\n",
       " 'NEW_EMPLOYMENT',\n",
       " 'CONTINUED_EMPLOYMENT',\n",
       " 'CHANGE_PREVIOUS_EMPLOYMENT',\n",
       " 'NEW_CONCURRENT_EMP',\n",
       " 'CHANGE_EMPLOYER',\n",
       " 'AMENDED_PETITION',\n",
       " 'FULL_TIME_POSITION',\n",
       " 'PREVAILING_WAGE',\n",
       " 'PW_UNIT_OF_PAY',\n",
       " 'PW_WAGE_LEVEL',\n",
       " 'PW_SOURCE',\n",
       " 'PW_SOURCE_YEAR',\n",
       " 'PW_SOURCE_OTHER',\n",
       " 'WAGE_RATE_OF_PAY_FROM',\n",
       " 'WAGE_RATE_OF_PAY_TO',\n",
       " 'WAGE_UNIT_OF_PAY',\n",
       " 'H1B_DEPENDENT',\n",
       " 'WILLFUL_VIOLATOR',\n",
       " 'SUPPORT_H1B',\n",
       " 'LABOR_CON_AGREE',\n",
       " 'PUBLIC_DISCLOSURE_LOCATION',\n",
       " 'WORKSITE_CITY',\n",
       " 'WORKSITE_COUNTY',\n",
       " 'WORKSITE_STATE',\n",
       " 'WORKSITE_POSTAL_CODE',\n",
       " 'ORIGINAL_CERT_DATE']"
      ]
     },
     "execution_count": 77,
     "metadata": {},
     "output_type": "execute_result"
    }
   ],
   "source": [
    "lines[0]"
   ]
  },
  {
   "cell_type": "code",
   "execution_count": 78,
   "metadata": {},
   "outputs": [
    {
     "data": {
      "text/plain": [
       "'CASE_NUMBER'"
      ]
     },
     "execution_count": 78,
     "metadata": {},
     "output_type": "execute_result"
    }
   ],
   "source": [
    "lines[0][1]"
   ]
  },
  {
   "cell_type": "code",
   "execution_count": 79,
   "metadata": {},
   "outputs": [],
   "source": [
    "def header_index(arg, header):\n",
    "    for i, ele in enumerate(header):\n",
    "        if re.match(arg, ele):\n",
    "            return i\n",
    "    raise NameError('column not found')\n",
    "\n",
    "def populate_indices(header):\n",
    "    indices = {}\n",
    "    indices['status'] = header_index('.*STATUS.*', header)\n",
    "    indices['soc'] = header_index('.*SOC_CODE.*', header)\n",
    "    indices['job_name'] = header_index('.*SOC_NAME.*', header)\n",
    "    indices['job_state'] = header_index('.*(WORKSITE_STATE|WORKLOC1_STATE).*', header)\n",
    "    return indices    "
   ]
  },
  {
   "cell_type": "code",
   "execution_count": 80,
   "metadata": {},
   "outputs": [
    {
     "data": {
      "text/plain": [
       "{'status': 2, 'soc': 23, 'job_name': 24, 'job_state': 50}"
      ]
     },
     "execution_count": 80,
     "metadata": {},
     "output_type": "execute_result"
    }
   ],
   "source": [
    "indices = populate_indices(lines[0])\n",
    "indices"
   ]
  },
  {
   "cell_type": "code",
   "execution_count": 81,
   "metadata": {},
   "outputs": [],
   "source": [
    "def check_soc_hyphen(soc):\n",
    "    if len(soc) < 6:\n",
    "        return soc\n",
    "    soc_lst = list(soc)\n",
    "    \n",
    "    if soc_lst[2] != '-':\n",
    "        if soc_lst[2] == '.':\n",
    "            soc_lst[2] = '-'\n",
    "        else:\n",
    "            soc_lst.insert(2, '-')\n",
    "    return ''.join(soc_lst)\n",
    "\n",
    "def clean_soc(soc):\n",
    "    soc_strip = soc.replace(' ', '')\n",
    "    soc_hyphen = check_soc_hyphen(soc_strip)\n",
    "    return soc_hyphen[:7]     "
   ]
  },
  {
   "cell_type": "code",
   "execution_count": 82,
   "metadata": {},
   "outputs": [],
   "source": [
    "occupation_dict = {}\n",
    "occupation_count = {}\n",
    "state_count = {}\n",
    "certified_count = 0\n",
    "\n",
    "for line in lines[1:]:\n",
    "    if line[indices['status']] != 'CERTIFIED':\n",
    "        continue    \n",
    "    \n",
    "    soc = clean_soc(line[indices['soc']])  \n",
    "    job_name = line[indices['job_name']]\n",
    "    job_state = line[indices['job_state']]\n",
    "    if not re.match('\\d{2}-\\d{4}', soc) or not job_state:\n",
    "        continue\n",
    "        \n",
    "    certified_count += 1\n",
    "    \n",
    "    if soc not in occupation_dict:\n",
    "        occupation_dict[soc] = job_name\n",
    "        occupation_count[soc] = 0\n",
    "    elif len(job_name) > len(occupation_dict[soc]):\n",
    "        occupation_dict[soc] = job_name\n",
    "    occupation_count[soc] += 1\n",
    "    \n",
    "    state = line[indices['job_state']]\n",
    "    if state not in state_count:\n",
    "        state_count[state] = 0\n",
    "    state_count[state] += 1\n",
    "    "
   ]
  },
  {
   "cell_type": "code",
   "execution_count": 83,
   "metadata": {},
   "outputs": [
    {
     "data": {
      "text/plain": [
       "{'15-1132': 'SOFTWARE DEVELOPERS, APPLICATIONS',\n",
       " '13-2011': 'ACCOUNTANTS AND AUDITORS',\n",
       " '15-1141': 'DATABASE ADMINISTRATORS',\n",
       " '15-1121': 'COMPUTER SYSTEMS ANALYST',\n",
       " '15-1199': 'COMPUTER OCCUPATIONS, ALL OTHER'}"
      ]
     },
     "execution_count": 83,
     "metadata": {},
     "output_type": "execute_result"
    }
   ],
   "source": [
    "occupation_dict"
   ]
  },
  {
   "cell_type": "code",
   "execution_count": 84,
   "metadata": {},
   "outputs": [
    {
     "data": {
      "text/plain": [
       "{'15-1132': 6, '13-2011': 1, '15-1141': 1, '15-1121': 1, '15-1199': 1}"
      ]
     },
     "execution_count": 84,
     "metadata": {},
     "output_type": "execute_result"
    }
   ],
   "source": [
    "occupation_count"
   ]
  },
  {
   "cell_type": "code",
   "execution_count": 85,
   "metadata": {},
   "outputs": [
    {
     "name": "stdout",
     "output_type": "stream",
     "text": [
      "9\n"
     ]
    },
    {
     "data": {
      "text/plain": [
       "{'WA': 1,\n",
       " 'CA': 1,\n",
       " 'TX': 1,\n",
       " 'DE': 1,\n",
       " 'AL': 1,\n",
       " 'FL': 2,\n",
       " 'MD': 1,\n",
       " 'NJ': 1,\n",
       " 'GA': 1}"
      ]
     },
     "execution_count": 85,
     "metadata": {},
     "output_type": "execute_result"
    }
   ],
   "source": [
    "print(len(state_count))\n",
    "state_count"
   ]
  },
  {
   "cell_type": "code",
   "execution_count": 86,
   "metadata": {},
   "outputs": [
    {
     "data": {
      "text/plain": [
       "10"
      ]
     },
     "execution_count": 86,
     "metadata": {},
     "output_type": "execute_result"
    }
   ],
   "source": [
    "certified_count"
   ]
  },
  {
   "cell_type": "code",
   "execution_count": 87,
   "metadata": {},
   "outputs": [],
   "source": [
    "def ratio_formatted(job_count, total):\n",
    "    num = round(100 * float(job_count) / total, 1)\n",
    "    return str(num) + '%'\n",
    "\n",
    "def occupation_analysis(count, names, total):\n",
    "    sorted_occupations = sorted(count.items(), key=lambda kv: kv[1])\n",
    "    sorted_occupations.reverse()\n",
    "    top_ten = sorted_occupations[:10]\n",
    "    \n",
    "    occupation_answer = ['TOP_OCCUPATIONS;NUMBER_CERTIFIED_APPLICATIONS;PERCENTAGE']\n",
    "    for job in top_ten:\n",
    "        row = []\n",
    "        row.append(names[job[0]])\n",
    "        row.append(str(job[1]))\n",
    "        row.append(ratio_formatted(job[1], total))\n",
    "        occupation_answer.append(';'.join(row))\n",
    "    return \"\\n\".join(occupation_answer)\n",
    "        "
   ]
  },
  {
   "cell_type": "code",
   "execution_count": 88,
   "metadata": {},
   "outputs": [
    {
     "name": "stdout",
     "output_type": "stream",
     "text": [
      "TOP_OCCUPATIONS;NUMBER_CERTIFIED_APPLICATIONS;PERCENTAGE\n",
      "SOFTWARE DEVELOPERS, APPLICATIONS;6;60.0%\n",
      "COMPUTER OCCUPATIONS, ALL OTHER;1;10.0%\n",
      "COMPUTER SYSTEMS ANALYST;1;10.0%\n",
      "DATABASE ADMINISTRATORS;1;10.0%\n",
      "ACCOUNTANTS AND AUDITORS;1;10.0%\n"
     ]
    }
   ],
   "source": [
    "print(occupation_analysis(occupation_count, occupation_dict, certified_count))"
   ]
  },
  {
   "cell_type": "code",
   "execution_count": 89,
   "metadata": {},
   "outputs": [],
   "source": [
    "def state_analysis(count, total):\n",
    "    sorted_states = sorted(count.items(), key=lambda kv: kv[1])\n",
    "    sorted_states.reverse()\n",
    "    top_ten = sorted_states[:10]\n",
    "    \n",
    "    states_answer = ['TOP_STATES;NUMBER_CERTIFIED_APPLICATIONS;PERCENTAGE']\n",
    "    for state in top_ten:\n",
    "        row = []\n",
    "        row.append(state[0])\n",
    "        row.append(str(state[1]))\n",
    "        row.append(ratio_formatted(state[1], total))\n",
    "        states_answer.append(';'.join(row))\n",
    "    return \"\\n\".join(states_answer)"
   ]
  },
  {
   "cell_type": "code",
   "execution_count": 90,
   "metadata": {},
   "outputs": [
    {
     "name": "stdout",
     "output_type": "stream",
     "text": [
      "TOP_STATES;NUMBER_CERTIFIED_APPLICATIONS;PERCENTAGE\n",
      "FL;2;20.0%\n",
      "GA;1;10.0%\n",
      "NJ;1;10.0%\n",
      "MD;1;10.0%\n",
      "AL;1;10.0%\n",
      "DE;1;10.0%\n",
      "TX;1;10.0%\n",
      "CA;1;10.0%\n",
      "WA;1;10.0%\n"
     ]
    }
   ],
   "source": [
    "print(state_analysis(state_count, certified_count))"
   ]
  },
  {
   "cell_type": "code",
   "execution_count": null,
   "metadata": {},
   "outputs": [],
   "source": []
  }
 ],
 "metadata": {
  "kernelspec": {
   "display_name": "Python 3",
   "language": "python",
   "name": "python3"
  },
  "language_info": {
   "codemirror_mode": {
    "name": "ipython",
    "version": 3
   },
   "file_extension": ".py",
   "mimetype": "text/x-python",
   "name": "python",
   "nbconvert_exporter": "python",
   "pygments_lexer": "ipython3",
   "version": "3.7.1"
  }
 },
 "nbformat": 4,
 "nbformat_minor": 2
}
